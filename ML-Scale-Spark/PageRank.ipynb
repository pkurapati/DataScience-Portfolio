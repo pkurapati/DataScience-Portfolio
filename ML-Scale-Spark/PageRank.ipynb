{
 "cells": [
  {
   "cell_type": "markdown",
   "metadata": {},
   "source": [
    "# HW 5 - Page Rank\n",
    "__`MIDS w261: Machine Learning at Scale | UC Berkeley School of Information | Fall 2018`__\n",
    "\n",
    "In Weeks 8 and 9 you discussed key concepts related to graph based algorithms and implemented SSSP.   \n",
    "In this final homework assignment you'll implement distributed PageRank using some data from Wikipedia.\n",
    "By the end of this homework you should be able to:  \n",
    "* ... __compare/contrast__ adjacency matrices and lists as representations of graphs for parallel computation.\n",
    "* ... __explain__ the goal of the PageRank algorithm using the concept of an infinite Random Walk.\n",
    "* ... __define__ a Markov chain including the conditions underwhich it will converge.\n",
    "* ... __identify__ what modifications must be made to the web graph inorder to leverage Markov Chains.\n",
    "* ... __implement__ distributed PageRank in Spark.\n",
    "\n",
    "__Please refer to the `README` for homework submission instructions and additional resources.__ "
   ]
  },
  {
   "cell_type": "markdown",
   "metadata": {},
   "source": [
    "# Notebook Set-Up\n",
    "Before starting your homework run the following cells to confirm your setup."
   ]
  },
  {
   "cell_type": "code",
   "execution_count": 1,
   "metadata": {},
   "outputs": [],
   "source": [
    "# imports\n",
    "import re\n",
    "import ast\n",
    "import time\n",
    "import numpy as np\n",
    "import pandas as pd\n",
    "import seaborn as sns\n",
    "import networkx as nx\n",
    "import matplotlib.pyplot as plt"
   ]
  },
  {
   "cell_type": "code",
   "execution_count": 2,
   "metadata": {},
   "outputs": [],
   "source": [
    "%reload_ext autoreload\n",
    "%autoreload 2"
   ]
  },
  {
   "cell_type": "code",
   "execution_count": 3,
   "metadata": {},
   "outputs": [],
   "source": [
    "# store path to notebook\n",
    "PWD = !pwd\n",
    "PWD = PWD[0]"
   ]
  },
  {
   "cell_type": "code",
   "execution_count": 4,
   "metadata": {},
   "outputs": [],
   "source": [
    "# start Spark Session\n",
    "from pyspark.sql import SparkSession\n",
    "app_name = \"hw5_notebook\"\n",
    "master = \"local[*]\"\n",
    "spark = SparkSession\\\n",
    "        .builder\\\n",
    "        .appName(app_name)\\\n",
    "        .master(master)\\\n",
    "        .getOrCreate()\n",
    "sc = spark.sparkContext"
   ]
  },
  {
   "cell_type": "markdown",
   "metadata": {},
   "source": [
    "__`REMINDER`__: If you are running this notebook on the course docker container, you can monitor the progress of your jobs using the Spark UI at: http://localhost:4040/jobs/"
   ]
  },
  {
   "cell_type": "markdown",
   "metadata": {},
   "source": [
    "# Question 1: Distributed Graph Processing\n",
    "Chapter 5 from Lin & Dyer gave you a high level introduction to graph algorithms and concernts that come up when trying to perform distributed computations over them. The questions below are designed to make sure you captured the key points from this reading and your async lectures. \n",
    "\n",
    "### Q1 Tasks:\n",
    "\n",
    "* __a) short response:__ Give an example of a dataset that would be appropriate to represent as a graph. What are the nodes/edges in this dataset? Is the graph you describe 'directed' or 'undirected'? What would the average \"in-degree\" of a node mean in the context of your example? \n",
    "\n",
    "* __b) short response:__ Other than their size/scale, what makes graphs uniquely challenging to work with in the map-reduce paradigm?\n",
    "\n",
    "* __c) short response:__ Briefly describe Dijskra's algorithm (goal/approach). What specific design component makes this approach hard to parallelize?\n",
    "\n",
    "* __d) short response:__ How does parallel breadth-first-search get around the problem that you identified in part `c`? At what expense?"
   ]
  },
  {
   "cell_type": "markdown",
   "metadata": {},
   "source": [
    "### Q1 Student Answers:\n",
    "> __a)__ \n",
    "\n",
    "I work in telecommunications industry in the area that enables the Internet. The network nodes (IP Routers) can be represented as connected graphs. They are generally \"directed\" graphs in the sense that you can have different metrics (costs) in each direction (Say A & B has fiber optic link, with A->B having a cost of 1, and B->A having a cost of infiniy so you remove B->A from the graph representation). It is also a common technique in some scenarios to represent them as \"undirected\", meaning they are bi-directional connections with same cost in either direction ( typically number of hops is the cost). As a matter of fact, Dijkstra's algorithm is very popular in data networks and is widely used in small segments to compute shortest path.\n",
    "\n",
    "The \"in-degree\" represents the number of edges incoming to a vertex. In the example I stated above, the in-degree can vary dependending on where the router is placed. Edge of the network, the in-degree can be 0 or single digit and at the core of the network the in-degree can run into 10s/hundreds (i.e, >100 nodes can connect to a given node).\n",
    "\n",
    "Other examples of graph representation is the organization chart with nodes representing individual employees and edges representing the managerial relationship. This is a directed graph with the direction being from manager to their direct reports. The in-degree in this case will be typically 1, because an employee will have only 1 supervisor.\n",
    "\n",
    "\n",
    "> __b)__  \n",
    "\n",
    "The requirement of propagating the computed result and current state at each stage of graph traversal is very challenging in map-reduce. For example, Dijkstra's algorithm in graphs requires priority queue that maintains a globally sorted list of nodes by current distance. This is not possible in traditional map-reduce that does not allow exchanging global data. While it is possible in Spark, it is expensive if the scale is large.\n",
    "\n",
    "> __c)__ \n",
    "\n",
    "Dijkstra's algorithm is used for calculating shortest paths from any given node to other nodes in the graph. As I cited in example \"a\", the goal is to find the shortest path to the destinations, considering the weights and not just the hops. The input to the algorithm is directed connected graph with adjacency lists. The initial distances are set to infinity, except to self which is 0. The algorithm also requires a global priority queue of vertices with priorities equal to their distance values. The algorithm then iteratively selects the nodes with the lowest current distance from the priority queue [This is key for priority queue as it is no longer FIFO]. At each iteration, the algorithm expands that node by traversing the adjacency list of the selected node to see if any of those nodes can be reached with a path of a shorter distance. The algorithm terminates when the priority queue is empty.\n",
    "\n",
    "The requirement of maintaining global prioty queue is the main challenge that makes it hard to parallelize. This queue needs to be broadcasted which is not possible in all the frameworks, and also becomes a scaling challenge for huge graphs [FB, web pages etc.]\n",
    "\n",
    "> __d)__ \n",
    "\n",
    "Parallel breadth-first search is an iterative algorithm, where each iteration corresponds to a MapReduce job. Each iteration of the algorithm expands the “search frontier” by one hop, and, eventually, all nodes will be discovered with their shortest distances. We need to pass-along the graph structure from one iteration to the next.\n",
    "\n",
    "The algorithm is a brute force approach that “wastes” a lot of time performing computations whose results are discarded. At each iteration, the algorithm attempts to recompute distances to all nodes, but in reality only useful work is done along the search frontier. Inside the search frontier, the algorithm is simply repeating previous computations.\n"
   ]
  },
  {
   "cell_type": "markdown",
   "metadata": {},
   "source": [
    "# Question 2: Representing Graphs \n",
    "\n",
    "In class you saw examples of adjacency matrix and adjacency list representations of graphs. These data structures were probably familiar from HW3, though we hadn't before talked about them in the context of graphs. In this question we'll discuss some of the tradeoffs associated with these representations. __`NOTE:`__ We'll use the graph from Figure 5.1 in Lin & Dyer as a toy example. For convenience in the code below we'll label the nodes `A`, `B`, `C`, `D`, and `E` instead of $n_1$, $n_2$, etc but otherwise you should be able to follow along & check our answers against those in the text.\n",
    "\n",
    "### Q2 Tasks:\n",
    "\n",
    "* __a) short response:__ Relatively speaking, is the graph you described in Figure 5.1 in Lin & Dyer \"sparse\" or \"dense\"?  Explain how sparsity/density impacts the adjacency matrix and adjacency list representations of a graph.\n",
    "\n",
    "* __b) short response:__ Run the provided code to create and plot our toy graph. Is this graph directed or undirected? Explain how the adjacency matrices for directed graphs will differ from those of undirected graphs.\n",
    "\n",
    "* __c) code:__ Fill in the missing code to complete the function `get_adj_matr()`.\n",
    "\n",
    "* __d) code:__ Fill in the missing code to complete the function `get_adj_list()`.\n"
   ]
  },
  {
   "cell_type": "markdown",
   "metadata": {},
   "source": [
    "### Q2 Student Answers:\n",
    "> __a)__ \n",
    "\n",
    "The graph in figure 5.1 is \"sparse\" as there are limited number of edges. In general, a graph is sparse if the number of connections are far lesser than full-mesh of connections.\n",
    "\n",
    "The adjacency list for a sparse graph will be much smaller compared to a dense graph. Adjacency matrix of a sparse graph will have lot of 0s as opposed to a dense representation. \n",
    "\n",
    "> __b)__ \n",
    "\n",
    "This graph is \"directed\" becuase each edge represents uni-direction. The adjacency matrix for a undirected graph will be symmetric along the diagonal. For a directed graph it will not be symmetric along the diagonal.\n",
    "\n"
   ]
  },
  {
   "cell_type": "code",
   "execution_count": 5,
   "metadata": {},
   "outputs": [],
   "source": [
    "# part a - a graph is just a list of nodes and edges (RUN THIS CELL AS IS)\n",
    "TOY_GRAPH = {'nodes':['A', 'B', 'C', 'D', 'E'],\n",
    "             'edges':[('A', 'B'), ('A', 'D'), ('B', 'C'), ('B', 'E'), ('C', 'D'), \n",
    "                      ('D', 'E'), ('E', 'A'),('E', 'B'), ('E', 'C')]}"
   ]
  },
  {
   "cell_type": "code",
   "execution_count": 6,
   "metadata": {},
   "outputs": [
    {
     "data": {
      "image/png": "[encoded data removed]",
      "text/plain": [
       "<Figure size 432x288 with 1 Axes>"
      ]
     },
     "metadata": {},
     "output_type": "display_data"
    }
   ],
   "source": [
    "# part a - simple visualization of our toy graph using nx (RUN THIS CELL AS IS)\n",
    "G = nx.DiGraph()\n",
    "G.add_nodes_from(TOY_GRAPH['nodes'])\n",
    "G.add_edges_from(TOY_GRAPH['edges'])\n",
    "nx.draw(G, pos=nx.circular_layout(G), with_labels=True, alpha = 0.5)"
   ]
  },
  {
   "cell_type": "code",
   "execution_count": 7,
   "metadata": {},
   "outputs": [],
   "source": [
    "# part c - adjacency matrix function\n",
    "def get_adj_matr(graph):\n",
    "    \"\"\"\n",
    "    Function to create an adjacency matrix representation of a graph.\n",
    "    arg:\n",
    "        graph - (dict) of 'nodes' : [], 'edges' : []\n",
    "    returns:\n",
    "        pd.DataFrame with entry i,j representing an edge from node i to node j\n",
    "    \"\"\"\n",
    "    n = len(graph['nodes'])\n",
    "    adj_matr = pd.DataFrame(0, columns = graph['nodes'], index = graph['nodes'])\n",
    "    ############### YOUR CODE HERE ##################\n",
    "    for (row, column) in graph['edges']:\n",
    "        adj_matr[column][row] = 1    \n",
    "    ############### (END) YOUR CODE #################\n",
    "    return adj_matr"
   ]
  },
  {
   "cell_type": "code",
   "execution_count": 8,
   "metadata": {},
   "outputs": [
    {
     "name": "stdout",
     "output_type": "stream",
     "text": [
      "   A  B  C  D  E\n",
      "A  0  1  0  1  0\n",
      "B  0  0  1  0  1\n",
      "C  0  0  0  1  0\n",
      "D  0  0  0  0  1\n",
      "E  1  1  1  0  0\n"
     ]
    }
   ],
   "source": [
    "# part c - take a look (RUN THIS CELL AS IS)\n",
    "TOY_ADJ_MATR = get_adj_matr(TOY_GRAPH)\n",
    "print(TOY_ADJ_MATR)"
   ]
  },
  {
   "cell_type": "code",
   "execution_count": 8,
   "metadata": {},
   "outputs": [],
   "source": [
    "# part d - adjacency list function\n",
    "def get_adj_list(graph):\n",
    "    \"\"\"\n",
    "    Function to create an adjacency list representation of a graph.\n",
    "    arg:\n",
    "        graph - (dict) of 'nodes' : [], 'edges' : []\n",
    "    returns:\n",
    "        dictionary of the form {node : [list of edges]}\n",
    "    \"\"\"\n",
    "    adj_list = {node: [] for node in graph['nodes']}\n",
    "    ############### YOUR CODE HERE ##################\n",
    "    for (row, column) in graph['edges']:\n",
    "        adj_list[row].append(column)\n",
    "    \n",
    "    ############### (END) YOUR CODE #################\n",
    "    return adj_list"
   ]
  },
  {
   "cell_type": "code",
   "execution_count": 10,
   "metadata": {},
   "outputs": [
    {
     "name": "stdout",
     "output_type": "stream",
     "text": [
      "{'A': ['B', 'D'], 'B': ['C', 'E'], 'C': ['D'], 'D': ['E'], 'E': ['A', 'B', 'C']}\n"
     ]
    }
   ],
   "source": [
    "# part d - take a look (RUN THIS CELL AS IS)\n",
    "TOY_ADJ_LIST = get_adj_list(TOY_GRAPH)\n",
    "print(TOY_ADJ_LIST)"
   ]
  },
  {
   "cell_type": "markdown",
   "metadata": {},
   "source": [
    "# Question 3: Markov Chains and Random Walks\n",
    "\n",
    "As you know from your readings and in class discussions, the PageRank algorithm takes advantage of the machinery of Markov Chains to compute the relative importance of a webpage using the hyperlink structure of the web (we'll refer to this as the 'web-graph'). A Markov Chain is a discrete-time stochastic process. The stochastic matrix has a principal left eigen vector corresponding to its largest eigen value which is one. A Markov chain's probability distribution over its states may be viewed as a probability vector. This steady state probability for a state is the PageRank of the corresponding webpage. In this question we'll briefly discuss a few concepts that are key to understanding the math behind PageRank. \n",
    "\n",
    "### Q3 Tasks:\n",
    "\n",
    "* __a) short response:__ It is common to explain PageRank using the analogy of a web surfer who clicks on links at random ad infinitum. In the context of this hypothetical infinite random walk, what does the PageRank metric measure/represent?\n",
    "\n",
    "* __b) short response:__ What is the \"Markov Property\" and what does it mean in the context of PageRank?\n",
    "\n",
    "* __c) short response:__ A Markov chain consists of $n$ states plus an $n\\times n$ transition probability matrix. In the context of PageRank & a random walk over the WebGraph what are the $n$ states? what implications does this have about the size of the transition matrix?\n",
    "\n",
    "* __d) code + short response:__ What is a \"right stochastic matrix\"? Fill in the code below to compute the transition matrix for the toy graph from question 2. [__`HINT:`__ _It should be right stochastic. Using numpy this calculation can be done in one line of code._]\n",
    "\n",
    "* __e) code + short response:__ To compute the stable state distribution (i.e. PageRank) of a \"nice\" graph we can apply the power iteration method - repeatedly multiplying the transition matrix by itself, until the values no longer change. Apply this strategy to your transition matrix from `part d` to find the PageRank for each of the pages in your toy graph. Your code should print the results of each iteration. How many iterations does it take to converge? Which node is most 'central' (i.e. highest ranked)? Does this match your intuition? \n",
    "    * __`NOTE 1:`__ _this is a naive approach, we'll unpack what it means to be \"nice\" in the next question_.\n",
    "    * __`NOTE 2:`__ _no need to implement a stopping criteria, visual inspection should suffice_."
   ]
  },
  {
   "cell_type": "markdown",
   "metadata": {},
   "source": [
    "### Q3 Student Answers:\n",
    "> __a)__ \n",
    "\n",
    "In terms of a random walk by web surfer through the hyper links, PageRank represents how frequently the walker would encounter the given web page if he continues to walk around the links tirelessly. More precisely mentioned by Lin & Dyer in 5.3, PageRank is a probability distribution over nodes in the graph representing the likelihood that a random walk over the link structure will arrive at a particular node.\n",
    "\n",
    "> __b)__ \n",
    "\n",
    "One of the key properties of Markov chain process is that it has no memory of the past. i,e, the probability of arriving at the next web page is solely depdendent on the current page. This memoryless state is referred to as Marlov Property. \n",
    "\n",
    "In the context of page rank, in addition to considering the markov transition matrix for ranking the page, we also consider teleportation factor where a surfer can teleport or randomly jump to another page, with a random jump factor of $\\alpha$\n",
    "\n",
    "> __c)__ \n",
    "\n",
    "Landing at each webpage is considered as a state. For webgraph n represents the number of web pages (vertices) in the web. The transition matrix (nxn) can be very large size if the number of web pages are large. Hence, computing page rank on a single compute becomes extremely challenging due to the large scale of matrix operation involved. It requires distributed computing in the form of map reduce framework.\n",
    "\n",
    "> __d)__ \n",
    "\n",
    "A right stochastic matrix is a real, positive square matrix where each row sums to \"1\". All the entries are greater than or requal to 0 (positive and real). \n",
    "\n",
    "> __e)__ \n",
    "\n",
    "To match the stable distribution matrix of 8 decimals, it took about 5 iterations. Node 'E' has got the highest rank. Node E has got the highest out-degree (3) and a in-degree of 2. My initial intution was that the node with more in-degree would have higher rank as it would get more mass. Four of the five have same in-degree 2. So, it was difficult to judge based on in-degree alone. But on closer look, one of the contributions to E is coming from 'D' which has only one edge. D gives its entire mass to E.  Thus, I thought E must be the winner before computing the same."
   ]
  },
  {
   "cell_type": "code",
   "execution_count": 11,
   "metadata": {},
   "outputs": [
    {
     "data": {
      "text/html": [
       "<div>\n",
       "<style scoped>\n",
       "    .dataframe tbody tr th:only-of-type {\n",
       "        vertical-align: middle;\n",
       "    }\n",
       "\n",
       "    .dataframe tbody tr th {\n",
       "        vertical-align: top;\n",
       "    }\n",
       "\n",
       "    .dataframe thead th {\n",
       "        text-align: right;\n",
       "    }\n",
       "</style>\n",
       "<table border=\"1\" class=\"dataframe\">\n",
       "  <thead>\n",
       "    <tr style=\"text-align: right;\">\n",
       "      <th></th>\n",
       "      <th>A</th>\n",
       "      <th>B</th>\n",
       "      <th>C</th>\n",
       "      <th>D</th>\n",
       "      <th>E</th>\n",
       "    </tr>\n",
       "  </thead>\n",
       "  <tbody>\n",
       "    <tr>\n",
       "      <th>A</th>\n",
       "      <td>0</td>\n",
       "      <td>1</td>\n",
       "      <td>0</td>\n",
       "      <td>1</td>\n",
       "      <td>0</td>\n",
       "    </tr>\n",
       "    <tr>\n",
       "      <th>B</th>\n",
       "      <td>0</td>\n",
       "      <td>0</td>\n",
       "      <td>1</td>\n",
       "      <td>0</td>\n",
       "      <td>1</td>\n",
       "    </tr>\n",
       "    <tr>\n",
       "      <th>C</th>\n",
       "      <td>0</td>\n",
       "      <td>0</td>\n",
       "      <td>0</td>\n",
       "      <td>1</td>\n",
       "      <td>0</td>\n",
       "    </tr>\n",
       "    <tr>\n",
       "      <th>D</th>\n",
       "      <td>0</td>\n",
       "      <td>0</td>\n",
       "      <td>0</td>\n",
       "      <td>0</td>\n",
       "      <td>1</td>\n",
       "    </tr>\n",
       "    <tr>\n",
       "      <th>E</th>\n",
       "      <td>1</td>\n",
       "      <td>1</td>\n",
       "      <td>1</td>\n",
       "      <td>0</td>\n",
       "      <td>0</td>\n",
       "    </tr>\n",
       "  </tbody>\n",
       "</table>\n",
       "</div>"
      ],
      "text/plain": [
       "   A  B  C  D  E\n",
       "A  0  1  0  1  0\n",
       "B  0  0  1  0  1\n",
       "C  0  0  0  1  0\n",
       "D  0  0  0  0  1\n",
       "E  1  1  1  0  0"
      ]
     },
     "execution_count": 11,
     "metadata": {},
     "output_type": "execute_result"
    }
   ],
   "source": [
    "# part d - recall what the adjacency matrix looked like (RUN THIS CELL AS IS)\n",
    "TOY_ADJ_MATR"
   ]
  },
  {
   "cell_type": "code",
   "execution_count": 12,
   "metadata": {},
   "outputs": [
    {
     "name": "stdout",
     "output_type": "stream",
     "text": [
      "          A         B         C    D    E\n",
      "A  0.000000  0.500000  0.000000  0.5  0.0\n",
      "B  0.000000  0.000000  0.500000  0.0  0.5\n",
      "C  0.000000  0.000000  0.000000  1.0  0.0\n",
      "D  0.000000  0.000000  0.000000  0.0  1.0\n",
      "E  0.333333  0.333333  0.333333  0.0  0.0\n"
     ]
    }
   ],
   "source": [
    "# part d - use TOY_ADJ_MATR to create a right stochastic transition matrix for this graph\n",
    "################ YOUR CODE HERE #################\n",
    "# Column represents \"FROM\" and Row represents \"TO\"\n",
    "# We need to add the column to get the number of nodes we can go from given node.\n",
    "# Then divide the given cell by that sum to get the probability distribution\n",
    "\n",
    "transition_matrix = TOY_ADJ_MATR.apply(lambda x: x/float(x.sum()), axis=1)\n",
    "\n",
    "################ (END) YOUR CODE #################\n",
    "print(transition_matrix)"
   ]
  },
  {
   "cell_type": "code",
   "execution_count": 12,
   "metadata": {},
   "outputs": [],
   "source": [
    "# part e - compute the steady state using the transition matrix \n",
    "def power_iteration(xInit, tMatrix, nIter, verbose = True):\n",
    "    \"\"\"\n",
    "    Function to perform the specified number of power iteration steps to \n",
    "    compute the steady state probability distribution for the given\n",
    "    transition matrix.\n",
    "    \n",
    "    Args:\n",
    "        xInit     - (n x 1 array) representing inial state\n",
    "        tMatrix  - (n x n array) transition probabilities\n",
    "        nIter     - (int) number of iterations\n",
    "    Returns:\n",
    "        state_vector - (n x 1 array) representing probability \n",
    "                        distribution over states after nSteps.\n",
    "    \n",
    "    NOTE: if the 'verbose' flag is on, your function should print the step\n",
    "    number and the current matrix at each iteration.\n",
    "    \"\"\"\n",
    "    state_vector = None\n",
    "    ################ YOUR CODE HERE #################\n",
    "    # initialize state vector with xInit\n",
    "    state_vector = xInit\n",
    "    # Initialize the power vector to transition matrix\n",
    "    power_vector = tMatrix\n",
    "    for i in range(1, nIter+1):\n",
    "        # Multiply the transition matrix by itself\n",
    "        power_vector = np.matmul(power_vector,power_vector)\n",
    "        # Calculate the state vector\n",
    "        state_vector = np.matmul(state_vector,power_vector)\n",
    "        if verbose : \n",
    "            print(\"step:\", i)\n",
    "            print(state_vector)       \n",
    "    \n",
    "    ################ (END) YOUR CODE #################\n",
    "    return state_vector"
   ]
  },
  {
   "cell_type": "code",
   "execution_count": 14,
   "metadata": {},
   "outputs": [
    {
     "name": "stdout",
     "output_type": "stream",
     "text": [
      "step: 1\n",
      "[0.   0.   0.25 0.   0.75]\n",
      "step: 2\n",
      "[0.14583333 0.20833333 0.20833333 0.25       0.1875    ]\n",
      "step: 3\n",
      "[0.10746206 0.15780928 0.18477929 0.23268711 0.31726225]\n",
      "step: 4\n",
      "[0.10525876 0.15789576 0.18420955 0.23685181 0.31578413]\n",
      "step: 5\n",
      "[0.10526316 0.15789474 0.18421053 0.23684211 0.31578947]\n",
      "step: 6\n",
      "[0.10526316 0.15789474 0.18421053 0.23684211 0.31578947]\n",
      "step: 7\n",
      "[0.10526316 0.15789474 0.18421053 0.23684211 0.31578947]\n",
      "step: 8\n",
      "[0.10526316 0.15789474 0.18421053 0.23684211 0.31578947]\n",
      "step: 9\n",
      "[0.10526316 0.15789474 0.18421053 0.23684211 0.31578947]\n",
      "step: 10\n",
      "[0.10526316 0.15789474 0.18421053 0.23684211 0.31578947]\n"
     ]
    }
   ],
   "source": [
    "# part e - run 10 steps of the power_iteration (RUN THIS CELL AS IS)\n",
    "xInit = np.array([1.0, 0, 0, 0, 0]) # note that this initial state will not affect the convergence states\n",
    "states = power_iteration(xInit, transition_matrix, 10, verbose = True)"
   ]
  },
  {
   "cell_type": "markdown",
   "metadata": {},
   "source": [
    "__`Expected Output for part e:`__  \n",
    ">Steady State Probabilities:\n",
    "```\n",
    "Node A: 0.10526316  \n",
    "Node B: 0.15789474  \n",
    "Node C: 0.18421053  \n",
    "Node D: 0.23684211  \n",
    "Node E: 0.31578947  \n",
    "```"
   ]
  },
  {
   "cell_type": "markdown",
   "metadata": {},
   "source": [
    "# Question 4: Page Rank Theory\n",
    "\n",
    "Seems easy right? Unfortunately applying this power iteration method directly to the web-graph actually runs into a few problems. In this question we'll tease apart what we meant by a 'nice graph' in Question 3 and highlight key modifications we'll have to make to the web-graph when performing PageRank. To start, we'll look at what goes wrong when we try to repeat our strategy from question 3 on a 'not nice' graph.\n",
    "\n",
    "__`Additional References:`__ http://pi.math.cornell.edu/~mec/Winter2009/RalucaRemus/Lecture3/lecture3.html\n",
    "\n",
    "### Q4 Tasks:\n",
    "\n",
    "* __a) code + short response:__ Run the provided code to create and plot our 'not nice' graph. Fill in the missing code to compute its transition matrix & run the power iteration method from question 3. What is wrong with what you see? [__`HINT:`__ _there is a visible underlying reason that it isn't converging... try adding up the probabilities in the state vector after each iteration._]\n",
    "\n",
    "* __b) short response:__  Identify the dangling node in this 'not nice' graph and explain how this node causes the problem you described in 'a'. How could we modify the transition matrix after each iteration to prevent this problem?\n",
    "\n",
    "* __c) short response:__ What does it mean for a graph to be irreducible? Is the webgraph naturally irreducible? Explain your reasoning briefly.\n",
    "\n",
    "* __d) short response:__ What does it mean for a graph to be aperiodic? Is the webgraph naturally aperiodic? Explain your reasoning briefly.\n",
    "\n",
    "* __e) short response:__ What modification to the webgraph does PageRank make in order to guarantee aperiodicity and irreducibility? Interpret this modification in terms of our random surfer analogy.\n"
   ]
  },
  {
   "cell_type": "markdown",
   "metadata": {},
   "source": [
    "### Q4 Student Answers:\n",
    "> __a)__ \n",
    "\n",
    "The transition matrix is no longer right stochastic matrix as the row 'E' does not sum to 1. This is because node 'E' is a dangling node, hence there are no outgoing probabilty mass in our current approach to the'not nice' graph. If it is not a stochastic matrix, markov chains and transitions cannot be applied.\n",
    "\n",
    "> __b)__ \n",
    "\n",
    "As explained in part 'a', E is the dangling node with no out-degree. This results in the transition matrix to be not stochastic. The sum of any given row must add up to 1 in the transition matrix. To address the dangling node problem, we must assign equal probability from the dangling node to each of the other node (since we have 5 nodes, a probability of 1/5 for every node starting from E). This implies that we are distributing the mass to all the nodes equally from E.\n",
    "\n",
    "> __c)__ \n",
    "\n",
    "An irreducible graph has a path from every node to every other node (i.e, no dangling nodes). Webgraphs are generally not irreducible because we cannot reach every web link from a given page. There are a lot of dangling nodes in real life webgraph, where we reach a dead end and not have path to any other web page. \n",
    "\n",
    "> __d)__ \n",
    "\n",
    "Say our graph has multiple cyclic connections (Cycle1 with 5 nodes: A->B->C->D->E->A, Cycle2 with 6 nodes: E->F->G->H->I->D->E both belonging to the same graph). This directed graph is aperiodic if there is no integer k > 1 that divides the length of every cycle of the graph (5 and 6 in the example I cited above can be only divisible by 1). Equivalently, a graph is aperiodic if the greatest common divisor of the lengths of its cycles is one; this greatest common divisor for a graph G is called the period of G.\n",
    "\n",
    "The webgraph is not naturally aperiodic. There will be many pages that point to each other forming cycles, and it might result in them being aperiodic. Taking the example from sync notebook, say we have 3 web pages (A<---B<--->C). This will never converge because we have two cycles of 2 nodes each (GCD=2).\n",
    "\n",
    "> __e)__ \n",
    "\n",
    "Page rank overcomes this limitation by assigning a damping factor that allows teleporting from any page to other links even if it has no outgoing edges. The damping factor p reflects the probability that the surfer quits the current page and \"teleports\" to a new one. Since he/she can teleport to any web page, each page has 1/n probability to be chosen [n=number of pages]. \n",
    "\n",
    "From random surfer point of view, this implies that every page can be reached from any given page.\n"
   ]
  },
  {
   "cell_type": "code",
   "execution_count": 10,
   "metadata": {},
   "outputs": [],
   "source": [
    "# part a - run this code to create a second toy graph (RUN THIS CELL AS IS)\n",
    "TOY2_GRAPH = {'nodes':['A', 'B', 'C', 'D', 'E'],\n",
    "              'edges':[('A', 'B'), ('A', 'C'), ('A', 'D'), ('B', 'D'), \n",
    "                       ('B', 'E'), ('C', 'A'), ('C', 'E'), ('D', 'B')]}"
   ]
  },
  {
   "cell_type": "code",
   "execution_count": 16,
   "metadata": {},
   "outputs": [
    {
     "data": {
      "image/png": "[encoded data removed]",
      "text/plain": [
       "<Figure size 432x288 with 1 Axes>"
      ]
     },
     "metadata": {},
     "output_type": "display_data"
    }
   ],
   "source": [
    "# part a - simple visualization of our test graph using nx (RUN THIS CELL AS IS)\n",
    "G = nx.DiGraph()\n",
    "G.add_nodes_from(TOY2_GRAPH['nodes'])\n",
    "G.add_edges_from(TOY2_GRAPH['edges'])\n",
    "nx.draw(G, pos=nx.circular_layout(G), with_labels=True, alpha = 0.5)"
   ]
  },
  {
   "cell_type": "code",
   "execution_count": 13,
   "metadata": {},
   "outputs": [
    {
     "name": "stdout",
     "output_type": "stream",
     "text": [
      "   A  B  C  D  E\n",
      "A  0  1  1  1  0\n",
      "B  0  0  0  1  1\n",
      "C  1  0  0  0  1\n",
      "D  0  1  0  0  0\n",
      "E  0  0  0  0  0\n",
      "[[0.         0.33333333 0.33333333 0.33333333 0.        ]\n",
      " [0.         0.         0.         0.5        0.5       ]\n",
      " [0.5        0.         0.         0.         0.5       ]\n",
      " [0.         1.         0.         0.         0.        ]\n",
      " [0.         0.         0.         0.         0.        ]]\n",
      "step: 1\n",
      "[0.08333333 0.41666667 0.         0.08333333 0.16666667]\n",
      "step: 2\n",
      "[0.00231481 0.12268519 0.         0.03009259 0.03240741]\n",
      "step: 3\n",
      "[1.78612254e-06 7.81071388e-03 0.00000000e+00 1.95223194e-03\n",
      " 1.95401806e-03]\n",
      "step: 4\n",
      "[1.06341125e-12 3.05175771e-05 0.00000000e+00 7.62939400e-06\n",
      " 7.62939506e-06]\n",
      "step: 5\n",
      "[3.76947826e-25 4.65661287e-10 0.00000000e+00 1.16415322e-10\n",
      " 1.16415322e-10]\n",
      "step: 6\n",
      "[4.73632211e-50 1.08420217e-19 0.00000000e+00 2.71050543e-20\n",
      " 2.71050543e-20]\n",
      "step: 7\n",
      "[7.47758237e-100 5.87747175e-039 0.00000000e+000 1.46936794e-039\n",
      " 1.46936794e-039]\n",
      "step: 8\n",
      "[1.86380794e-199 1.72723371e-077 0.00000000e+000 4.31808428e-078\n",
      " 4.31808428e-078]\n",
      "step: 9\n",
      "[0.00000000e+000 1.49166815e-154 0.00000000e+000 3.72917037e-155\n",
      " 3.72917037e-155]\n",
      "step: 10\n",
      "[0.00000000e+000 1.11253693e-308 0.00000000e+000 2.78134232e-309\n",
      " 2.78134232e-309]\n"
     ]
    }
   ],
   "source": [
    "# part a - run 10 steps of the power iteration method here\n",
    "# HINT: feel free to use the functions get_adj_matr() and power_iteration() you wrote above\n",
    "################ YOUR CODE HERE #################\n",
    "TOY2_adjacency_matrix = get_adj_matr(TOY2_GRAPH)\n",
    "#toy2_transition_matrix = TOY2_adjacency_matrix.apply(lambda x: x/(x.sum() * 1.0), axis=1)\n",
    "toy2_transition_matrix = np.apply_along_axis(lambda x: x/np.sum(x) if np.sum(x)!=0 else 0, 1, TOY2_adjacency_matrix)\n",
    "\n",
    "print(TOY2_adjacency_matrix)\n",
    "print(toy2_transition_matrix)\n",
    "\n",
    "x_Init = np.array([0.5, 0.5, 0, 0, 0]) # note that this initial state will not affect the convergence states\n",
    "states = power_iteration(x_Init, toy2_transition_matrix, 10, verbose = True)\n",
    "\n",
    "################ (END) YOUR CODE #################"
   ]
  },
  {
   "cell_type": "markdown",
   "metadata": {},
   "source": [
    "# About the Data\n",
    "The main dataset for this data consists of a subset of a 500GB dataset released by AWS in 2009. The data includes the source and metadata for all of the Wikimedia wikis. You can read more here: \n",
    "> https://aws.amazon.com/blogs/aws/new-public-data-set-wikipedia-xml-data. \n",
    "\n",
    "As in previous homeworks we'll be using a 2GB subset of this data, which is available to you in this dropbox folder: \n",
    "> https://www.dropbox.com/sh/2c0k5adwz36lkcw/AAAAKsjQfF9uHfv-X9mCqr9wa?dl=0. \n",
    "\n",
    "Use the cells below to download the wikipedia data and a test file for use in developing your PageRank implementation(note that we'll use the 'indexed out' version of the graph) and to take a look at the files."
   ]
  },
  {
   "cell_type": "code",
   "execution_count": 18,
   "metadata": {},
   "outputs": [],
   "source": [
    "# create a data directory (RUN THIS CELL AS IS)\n",
    "!mkdir data"
   ]
  },
  {
   "cell_type": "code",
   "execution_count": 19,
   "metadata": {},
   "outputs": [],
   "source": [
    "# download the test data set (RUN THIS CELL AS IS)\n",
    "!wget -q -O data/test_graph.txt https://www.dropbox.com/sh/2c0k5adwz36lkcw/AACf_33TeM7rKfEhjEoNmMCaa/PageRank-test_indexed.txt?dl=0"
   ]
  },
  {
   "cell_type": "code",
   "execution_count": 20,
   "metadata": {},
   "outputs": [
    {
     "name": "stdout",
     "output_type": "stream",
     "text": [
      "2\t{'3': 1}\n",
      "3\t{'2': 1}\n",
      "4\t{'1': 1, '2': 1}\n",
      "5\t{'4': 1, '2': 1, '6': 1}\n",
      "6\t{'2': 1, '5': 1}\n",
      "7\t{'2': 1, '5': 1}\n",
      "8\t{'2': 1, '5': 1}\n",
      "9\t{'2': 1, '5': 1}\n",
      "10\t{'5': 1}\n",
      "11\t{'5': 1}\n"
     ]
    }
   ],
   "source": [
    "# take a look\n",
    "!cat data/test_graph.txt"
   ]
  },
  {
   "cell_type": "code",
   "execution_count": null,
   "metadata": {},
   "outputs": [],
   "source": [
    "!cat data/test2_graph.txt"
   ]
  },
  {
   "cell_type": "code",
   "execution_count": 21,
   "metadata": {},
   "outputs": [
    {
     "name": "stdout",
     "output_type": "stream",
     "text": [
      "--2019-03-16 04:30:11--  https://www.dropbox.com/sh/2c0k5adwz36lkcw/AAAD7I_6kQlJtDpXZPhCfVH-a/wikipedia/all-pages-indexed-out.txt?dl=0\n",
      "Resolving www.dropbox.com (www.dropbox.com)... 162.125.8.1, 2620:100:6016:1::a27d:101\n",
      "Connecting to www.dropbox.com (www.dropbox.com)|162.125.8.1|:443... connected.\n",
      "HTTP request sent, awaiting response... 301 Moved Permanently\n",
      "Location: /sh/raw/2c0k5adwz36lkcw/AAAD7I_6kQlJtDpXZPhCfVH-a/wikipedia/all-pages-indexed-out.txt [following]\n",
      "--2019-03-16 04:30:11--  https://www.dropbox.com/sh/raw/2c0k5adwz36lkcw/AAAD7I_6kQlJtDpXZPhCfVH-a/wikipedia/all-pages-indexed-out.txt\n",
      "Reusing existing connection to www.dropbox.com:443.\n",
      "HTTP request sent, awaiting response... 302 Found\n",
      "Location: https://uc4df77cd57f4f814bc4f3375069.dl.dropboxusercontent.com/cd/0/inline/AdLlZ96vVRaNQbCAYdyorvjsbNyE72z-lSq-21466ZLiFf2SjA2K1eBx1QULO3oqrVpgv_TI1XYPp4zbf2jWflKm5HtCSzFNd3z_D6zwho-Lono2_-_wkbfiP4ercBABl5U/file# [following]\n",
      "--2019-03-16 04:30:12--  https://uc4df77cd57f4f814bc4f3375069.dl.dropboxusercontent.com/cd/0/inline/AdLlZ96vVRaNQbCAYdyorvjsbNyE72z-lSq-21466ZLiFf2SjA2K1eBx1QULO3oqrVpgv_TI1XYPp4zbf2jWflKm5HtCSzFNd3z_D6zwho-Lono2_-_wkbfiP4ercBABl5U/file\n",
      "Resolving uc4df77cd57f4f814bc4f3375069.dl.dropboxusercontent.com (uc4df77cd57f4f814bc4f3375069.dl.dropboxusercontent.com)... 162.125.1.6, 2620:100:601b:6::a27d:806\n",
      "Connecting to uc4df77cd57f4f814bc4f3375069.dl.dropboxusercontent.com (uc4df77cd57f4f814bc4f3375069.dl.dropboxusercontent.com)|162.125.1.6|:443... connected.\n",
      "HTTP request sent, awaiting response... 200 OK\n",
      "Length: 2090459616 (1.9G) [text/plain]\n",
      "Saving to: ‘data/wiki_graph.txt’\n",
      "\n",
      "data/wiki_graph.txt 100%[===================>]   1.95G  48.7MB/s    in 42s     \n",
      "\n",
      "2019-03-16 04:30:54 (47.6 MB/s) - ‘data/wiki_graph.txt’ saved [2090459616/2090459616]\n",
      "\n"
     ]
    }
   ],
   "source": [
    "# download the main data set - this may take a little time (RUN THIS CELL AS IS)\n",
    "!wget -O data/wiki_graph.txt https://www.dropbox.com/sh/2c0k5adwz36lkcw/AAAD7I_6kQlJtDpXZPhCfVH-a/wikipedia/all-pages-indexed-out.txt?dl=0"
   ]
  },
  {
   "cell_type": "code",
   "execution_count": 22,
   "metadata": {},
   "outputs": [
    {
     "name": "stdout",
     "output_type": "stream",
     "text": [
      "73\t{'14417532': 1}\n",
      "299\t{'4214575': 1}\n",
      "2552\t{'15043376': 1, '13430968': 1, '13451035': 1, '7263397': 1, '13001625': 1, '13443575': 1, '13451269': 1, '13432316': 1, '11623371': 1, '15028971': 1, '13425865': 1, '15042703': 1, '5051368': 1, '9854998': 2, '13442976': 1, '13315025': 1, '2992307': 1, '1054486': 1, '1322325': 1, '13450983': 1}\n",
      "2570\t{'983991': 1}\n",
      "2616\t{'9045350': 1}\n",
      "2711\t{'752887': 1}\n",
      "2818\t{'3534183': 1}\n",
      "2847\t{'3797918': 1}\n",
      "2892\t{'2893': 1}\n",
      "2921\t{'5158607': 1, '6007184': 1, '14773825': 1, '11777840': 2, '9285165': 1, '6420484': 1, '14670682': 1, '7316613': 1, '7125893': 1, '14965920': 1, '14229952': 1, '9447742': 2, '1425342': 1, '11390944': 2, '5141': 1, '14928135': 2, '13636570': 3, '14687433': 1, '15105458': 1, '11656072': 1, '6420027': 1, '10898196': 1, '6416278': 1, '11497740': 2}\n"
     ]
    }
   ],
   "source": [
    "# take a look (RUN THIS CELL AS IS)\n",
    "!head data/wiki_graph.txt"
   ]
  },
  {
   "cell_type": "code",
   "execution_count": 23,
   "metadata": {},
   "outputs": [],
   "source": [
    "# download the indexes (RUN THIS CELL AS IS)\n",
    "!wget -q -O data/indices.txt https://www.dropbox.com/sh/2c0k5adwz36lkcw/AADSYhyRXbgebRDy6ALl6O1ca/wikipedia/indices.txt?dl=0"
   ]
  },
  {
   "cell_type": "code",
   "execution_count": 24,
   "metadata": {},
   "outputs": [
    {
     "name": "stdout",
     "output_type": "stream",
     "text": [
      "! $var = &quot;&quot;\t1\t1\t0\n",
      "! (CONFIG.SYS directive)\t2\t1\t1\n",
      "! (album)\t3\t12\t17\n",
      "! (disambiguation)\t4\t1\t20\n",
      "! -attention-\t5\t1\t0\n",
      "! Time Zone\t6\t1\t0\n",
      "!! (chess)\t7\t0\t1\n",
      "!! (disambiguation)\t8\t3\t0\n",
      "!!! (Chk Chk Chk)\t9\t1\t0\n",
      "!!! (album)\t10\t5\t15\n"
     ]
    }
   ],
   "source": [
    "# take a look (RUN THIS CELL AS IS)\n",
    "!head data/indices.txt"
   ]
  },
  {
   "cell_type": "code",
   "execution_count": 60,
   "metadata": {},
   "outputs": [],
   "source": [
    "# load the data into Spark RDDs for convenience of use later (RUN THIS CELL AS IS)\n",
    "testRDD = sc.textFile('gs://dataproc-4c6992fd-4773-46dc-bd20-76cae448be52-us/data/test_graph.txt')\n",
    "test2RDD = sc.textFile('gs://dataproc-4c6992fd-4773-46dc-bd20-76cae448be52-us/data/test2_graph.txt')\n",
    "indexRDD = sc.textFile('gs://dataproc-4c6992fd-4773-46dc-bd20-76cae448be52-us/data/indices.txt')\n",
    "wikiRDD = sc.textFile('gs://dataproc-4c6992fd-4773-46dc-bd20-76cae448be52-us/data/wiki_graph.txt')"
   ]
  },
  {
   "cell_type": "markdown",
   "metadata": {},
   "source": [
    "# Question 5: EDA part 1 (number of nodes)\n",
    "\n",
    "As usual, before we dive in to the main analysis, we'll peform some exploratory data anlysis to understand our dataset. Please use the test graph that you downloaded to test all your code before running the full dataset.\n",
    "\n",
    "### Q5 Tasks:\n",
    "* __a) short response:__ In what format is the raw data? What does the first value represent? What does the second part of each line represent? [__`HINT:`__ _no need to go digging here, just visually inspect the outputs of the head commands that we ran after loading the data above._]\n",
    "\n",
    "* __b) code + short response:__ Run the provided bash command to count the number of records in the raw dataset. Explain why this is _not_ the same as the number of total nodes in the graph.\n",
    "\n",
    "* __c) code:__ In the space provided below write a Spark job to count the _total number_ of nodes in this graph. \n",
    "\n",
    "* __d) short response:__ How many dangling nodes are there in this wikipedia graph? [__`HINT:`__ _you should not need any code to answer this question._]"
   ]
  },
  {
   "cell_type": "markdown",
   "metadata": {},
   "source": [
    "### Q5 Student Answers:\n",
    "> __a)__ \n",
    "\n",
    "The raw data is an adjacency list. The first value is the webpage index, the second part is the list of indexes of its connected web pages along with their weights which represents the number of times each of the adjacent web page is referenced.\n",
    "\n",
    "> __b)__ \n",
    "\n",
    "Counting the number of records does not give us the dangling nodes which do not have any adjacency. \n",
    "\n",
    "> __d)__ Type your answer here!  \n",
    "\n",
    "Total number of dangling nodes = 15192277 - 5781290 = 9410987"
   ]
  },
  {
   "cell_type": "code",
   "execution_count": 30,
   "metadata": {},
   "outputs": [
    {
     "name": "stdout",
     "output_type": "stream",
     "text": [
      "5781290 data/wiki_graph.txt\n"
     ]
    }
   ],
   "source": [
    "# part b - count the number of records in the raw data (RUN THIS CELL AS IS)\n",
    "!wc -l data/wiki_graph.txt"
   ]
  },
  {
   "cell_type": "code",
   "execution_count": 37,
   "metadata": {},
   "outputs": [
    {
     "data": {
      "text/plain": [
       "[('2', {'3': 1}),\n",
       " ('3', {'2': 1}),\n",
       " ('4', {'1': 1, '2': 1}),\n",
       " ('5', {'4': 1, '2': 1, '6': 1}),\n",
       " ('6', {'2': 1, '5': 1}),\n",
       " ('7', {'2': 1, '5': 1}),\n",
       " ('8', {'2': 1, '5': 1}),\n",
       " ('9', {'2': 1, '5': 1}),\n",
       " ('10', {'5': 1}),\n",
       " ('11', {'5': 1})]"
      ]
     },
     "execution_count": 37,
     "metadata": {},
     "output_type": "execute_result"
    }
   ],
   "source": [
    "# Define parser which splits each line by tab and returns nodes and edges\n",
    "def parse(line):\n",
    "    node, edges = line.split('\\t')\n",
    "    return (node, ast.literal_eval(edges))\n",
    "\n",
    "# Test values\n",
    "temp = testRDD.map(lambda x: parse(x))\n",
    "temp.take(12)"
   ]
  },
  {
   "cell_type": "code",
   "execution_count": 38,
   "metadata": {},
   "outputs": [],
   "source": [
    "# part c - write your Spark job here (compute total number of nodes)\n",
    "\n",
    "def count_nodes(dataRDD):\n",
    "    \"\"\"\n",
    "    Spark job to count the total number of nodes.\n",
    "    Returns: integer count \n",
    "    \"\"\"    \n",
    "    ############## YOUR CODE HERE ###############\n",
    "    def emit_node(line):\n",
    "        \"\"\" Emits nodes \"\"\"    \n",
    "        # We cannot just emit 'nodes' because there are dangling nodes with no edges.\n",
    "        # For example, in toy set, node '1' has no edges. So if we naively count nodes, we will miss those nodes\n",
    "        # Emit both nodes and edges\n",
    "\n",
    "        node,edges = line\n",
    "        yield(node)\n",
    "        for edge in edges:\n",
    "            yield(edge)\n",
    "    totalCount = dataRDD.map(lambda x: parse(x)) \\\n",
    "                        .flatMap(emit_node) \\\n",
    "                        .distinct()\\\n",
    "                        .count()\n",
    "    \n",
    "    ############## (END) YOUR CODE ###############   \n",
    "    return totalCount"
   ]
  },
  {
   "cell_type": "code",
   "execution_count": 40,
   "metadata": {},
   "outputs": [
    {
     "name": "stdout",
     "output_type": "stream",
     "text": [
      "... completed job in 0.43659496307373047 seconds.\n",
      "Total Nodes: 11\n"
     ]
    }
   ],
   "source": [
    "# part c - run your counting job on the test file (RUN THIS CELL AS IS)\n",
    "start = time.time()\n",
    "tot = count_nodes(testRDD)\n",
    "print(f'... completed job in {time.time() - start} seconds.')\n",
    "print(f'Total Nodes: {tot}')"
   ]
  },
  {
   "cell_type": "code",
   "execution_count": 41,
   "metadata": {},
   "outputs": [
    {
     "name": "stdout",
     "output_type": "stream",
     "text": [
      "... completed job in 126.89571928977966 seconds.\n",
      "Total Nodes: 15192277\n"
     ]
    }
   ],
   "source": [
    "# part c - run your counting job on the full file (RUN THIS CELL AS IS)\n",
    "start = time.time()\n",
    "tot = count_nodes(wikiRDD)\n",
    "print(f'... completed job in {time.time() - start} seconds.')\n",
    "print(f'Total Nodes: {tot}')"
   ]
  },
  {
   "cell_type": "markdown",
   "metadata": {},
   "source": [
    "# Question 6 - EDA part 2 (out-degree distribution)\n",
    "\n",
    "As you've seen in previous homeworks the computational complexity of an implementation depends not only on the number of records in the original dataset but also on the number of records we create and shuffle in our intermediate representation of the data. The number of intermediate records required to update PageRank is related to the number of edges in the graph. In this question you'll compute the average number of hyperlinks on each page in this data and visualize a distribution for these counts (the out-degree of the nodes). \n",
    "\n",
    "### Q6 Tasks:\n",
    "* __a) code:__ In the space provided below write a Spark job to stream over the data and compute all of the following information:\n",
    " * count the out-degree of each non-dangling node and return the names of the top 10 pages with the most hyperlinks\n",
    " * find the average out-degree for all non-dangling nodes in the graph\n",
    " * take a 1000 point sample of these out-degree counts and plot a histogram of the result. \n",
    " \n",
    " \n",
    "* __b) short response:__ In the context of the PageRank algorithm, how is information about a node's out degree used?\n",
    "\n",
    "* __c) short response:__ What does it mean if a node's out-degree is 0? In PageRank how will we handle these nodes differently than others?\n",
    " \n",
    "__`NOTE:`__ Please observe scalability best practices in the design of your code & comment your work clearly. You will be graded on both the clarity and the design."
   ]
  },
  {
   "cell_type": "markdown",
   "metadata": {},
   "source": [
    "### Q6 Student Answers:\n",
    "\n",
    "> __b)__ \n",
    "\n",
    "out-degree provides the distribution of probability mass of a given node to its connected neighbors. For example, if a node has out-degree of 3, its probability mass is 1/3 towards each node. In other words, a node's rank depends on the out-degree of its incoming nodes.\n",
    "\n",
    "> __c)__ \n",
    "\n",
    "If a node's out-degree is 0, it is considered as dangling node. In PageRank, we distribute the probability mass of such a node to all the nodes equally. If the size of the graph is N, we assign 1/N probability mass to each node from the dangling node. In the case of non-dangling node, the probability mass is distributed only to the outgoing neighbors."
   ]
  },
  {
   "cell_type": "code",
   "execution_count": 42,
   "metadata": {},
   "outputs": [],
   "source": [
    "# part a - write your Spark job here (compute average in-degree, etc)\n",
    "\n",
    "\n",
    "def count_degree(dataRDD, n):\n",
    "    \"\"\"\n",
    "    Function to analyze out-degree of nodes in a a graph.\n",
    "    Returns: \n",
    "        top  - (list of 10 tuples) nodes with most edges\n",
    "        avgDegree - (float) average out-degree for non-dangling nodes\n",
    "        sampledCounts - (list of integers) out-degree for n randomly sampled non-dangling nodes\n",
    "    \"\"\"\n",
    "    # helper func\n",
    "    def parse(line):\n",
    "        node, edges = line.split('\\t')\n",
    "        return (node, ast.literal_eval(edges))\n",
    "    \n",
    "    ############## YOUR CODE HERE ###############\n",
    "    \n",
    "    def count_edges(line):\n",
    "        \"\"\" Function to count the edges\"\"\"\n",
    "        node,edges = line\n",
    "        # We need to consider the counts as well, not just the number of edges\n",
    "        # Hence, adding the values to reflect the same.\n",
    "        yield(node,sum(edges.values()))\n",
    "    \n",
    "    outDegreeRDD = dataRDD.map(lambda x: parse(x))\\\n",
    "                          .flatMap(count_edges)\\\n",
    "                          .cache()\n",
    "    \n",
    "    top = outDegreeRDD.takeOrdered(10, key=lambda x: -x[1])\n",
    "    avgDegree = outDegreeRDD.map(lambda x: x[1]).mean()\n",
    "    sampledCounts = outDegreeRDD.map(lambda x: x[1]).takeSample(False, n)\n",
    "    \n",
    "    ############## (END) YOUR CODE ###############\n",
    "    \n",
    "    return top, avgDegree, sampledCounts"
   ]
  },
  {
   "cell_type": "code",
   "execution_count": 72,
   "metadata": {},
   "outputs": [],
   "source": [
    "#outRDD,top = count_degree(testRDD,10)\n",
    "#print(top)"
   ]
  },
  {
   "cell_type": "code",
   "execution_count": 43,
   "metadata": {},
   "outputs": [
    {
     "name": "stdout",
     "output_type": "stream",
     "text": [
      "... completed job in 0.602963924407959 seconds\n",
      "Average out-degree:  1.7\n",
      "Top 10 nodes (by out-degree:)\n",
      " [('5', 3), ('4', 2), ('6', 2), ('7', 2), ('8', 2), ('9', 2), ('2', 1), ('3', 1), ('10', 1), ('11', 1)]\n"
     ]
    },
    {
     "data": {
      "image/png": "[encoded data removed]",
      "text/plain": [
       "<Figure size 432x288 with 1 Axes>"
      ]
     },
     "metadata": {
      "needs_background": "light"
     },
     "output_type": "display_data"
    }
   ],
   "source": [
    "# part a - run your job on the test file (RUN THIS CELL AS IS)\n",
    "start = time.time()\n",
    "test_results = count_degree(testRDD,10)\n",
    "print(f\"... completed job in {time.time() - start} seconds\")\n",
    "print(\"Average out-degree: \", test_results[1])\n",
    "print(\"Top 10 nodes (by out-degree:)\\n\", test_results[0])\n",
    "plt.hist(test_results[2], bins=10)\n",
    "plt.title(\"Distribution of Out-Degree\")\n",
    "plt.show()"
   ]
  },
  {
   "cell_type": "code",
   "execution_count": 44,
   "metadata": {},
   "outputs": [
    {
     "name": "stdout",
     "output_type": "stream",
     "text": [
      "... completed job in 72.41662693023682 seconds\n",
      "Average out-degree:  32.041815753923544\n",
      "Top 10 nodes (by out-degree:)\n",
      " [('7804599', 9347), ('7858931', 8910), ('11185362', 8837), ('7705822', 8142), ('5760310', 7649), ('7865920', 7608), ('7819767', 7278), ('7883280', 7231), ('13035895', 7126), ('7880980', 6904)]\n"
     ]
    },
    {
     "data": {
      "image/png": "[encoded data removed]",
      "text/plain": [
       "<Figure size 432x288 with 1 Axes>"
      ]
     },
     "metadata": {
      "needs_background": "light"
     },
     "output_type": "display_data"
    }
   ],
   "source": [
    "# part a - run your job on the full file (RUN THIS CELL AS IS)\n",
    "start = time.time()\n",
    "full_results = count_degree(wikiRDD,1000)\n",
    "print(f\"... completed job in {time.time() - start} seconds\")\n",
    "print(\"Average out-degree: \", full_results[1])\n",
    "print(\"Top 10 nodes (by out-degree:)\\n\", full_results[0])\n",
    "plt.hist(full_results[2], bins=50)\n",
    "plt.title(\"Distribution of Out-Degree\")\n",
    "plt.show()"
   ]
  },
  {
   "cell_type": "markdown",
   "metadata": {},
   "source": [
    "# Question 7 - PageRank part 1 (Initialize the Graph)\n",
    "\n",
    "One of the challenges of performing distributed graph computation is that you must pass the entire graph structure through each iteration of your algorithm. As usual, we seek to design our computation so that as much work as possible can be done using the contents of a single record. In the case of PageRank, we'll need each record to include a node, its list of neighbors and its (current) rank. In this question you'll initialize the graph by creating a record for each dangling node and by setting the initial rank to 1/N for all nodes. \n",
    "\n",
    "__`NOTE:`__ Your solution should _not_ hard code $N$.\n",
    "\n",
    "### Q7 Tasks:\n",
    "* __a) short response:__ What is $N$? Use the analogy of the infinite random web-surfer to explain why we'll initialize each node's rank to $\\frac{1}{N}$. (i.e. what is the probabilistic interpretation of this choice?)\n",
    "\n",
    "* __b) short response:__ Will it be more efficient to compute $N$ before initializing records for each dangling node or after? Explain your reasoning.\n",
    "\n",
    "* __c) code:__ Fill in the missing code below to create a Spark job that:\n",
    "  * parses each input record\n",
    "  * creates a new record for any dangling nodes and sets it list of neighbors to be an empty set\n",
    "  * initializes a rank of 1/N for each node\n",
    "  * returns a pair RDD with records in the format specified by the docstring\n",
    "\n",
    "\n",
    "* __d) code:__ Run the provided code to confirm that your job in `part a` has a record for each node and that your should records match the format specified in the docstring and the count should match what you computed in question 5. [__`TIP:`__ _you might want to take a moment to write out what the expected output should be fore the test graph, this will help you know your code works as expected_]\n",
    " \n",
    "__`NOTE:`__ Please observe scalability best practices in the design of your code & comment your work clearly. You will be graded on both the clarity and the design."
   ]
  },
  {
   "cell_type": "markdown",
   "metadata": {},
   "source": [
    "### Q7 Student Answers:\n",
    "\n",
    "> __a)__ \n",
    "\n",
    "N is the total number of nodes in the graph, including the dangling nodes. We initialize each node to 1/N representing equal probability of going from any node to any other node. \n",
    "\n",
    "> __b)__ \n",
    "\n",
    "Computing N after initializing all nodes RDD is more efficient.\n",
    "\n",
    "Finding 'N' involves running a spark job that counts the nodes and the edges to incldue dangling nodes (as done in 5c where we emit records for all nodes including the edges, and perform distinct and count). If we used count_nodes function that we built in 5c to get 'N', we would have to repeat the spark job to build \"All Nodes\" RDD  (emit records for all nodes including edges, perform distinct and then update state 1/N). Hence, it involves two map-reduce jobs. \n",
    "\n",
    "Instead, if we first build all nodes that includes dangling nodes, and then count the resulting RDD, it just involves one map-reduce task.\n"
   ]
  },
  {
   "cell_type": "code",
   "execution_count": 45,
   "metadata": {},
   "outputs": [],
   "source": [
    "# part c - job to initialize the graph (RUN THIS CELL AS IS)\n",
    "def initGraph(dataRDD):\n",
    "    \"\"\"\n",
    "    Spark job to read in the raw data and initialize an \n",
    "    adjacency list representation with a record for each\n",
    "    node (including dangling nodes).\n",
    "    \n",
    "    Returns: \n",
    "        graphRDD -  a pair RDD of (node_id , (score, edges))\n",
    "        \n",
    "    NOTE: The score should be a float, but you may want to be \n",
    "    strategic about how format the edges... there are a few \n",
    "    options that can work. Make sure that whatever you choose\n",
    "    is sufficient for Question 8 where you'll run PageRank.\n",
    "    \"\"\"\n",
    "    ############## YOUR CODE HERE ###############\n",
    "\n",
    "    # write any helper functions here\n",
    "    \n",
    "    \n",
    "    #N = count_nodes(dataRDD)\n",
    "    # We cannot use the function we built before. \n",
    "    # We need to build the AllNodes RDD first\n",
    "    \n",
    "    # Copying the two helper functions from before to parse and emit nodes\n",
    "    def parse(line):\n",
    "        node, edges = line.split('\\t')\n",
    "        return (node, ast.literal_eval(edges))\n",
    "    \n",
    "    def emit_node(line):\n",
    "        \"\"\" Emits nodes \"\"\"    \n",
    "        node,edges = line\n",
    "        yield(node)\n",
    "        for edge in edges:\n",
    "            yield(edge)\n",
    "    def emit_edges_counts(line):\n",
    "        \"\"\" Function to emit the edges and counts\"\"\"\n",
    "        node,edges = line\n",
    "        yield(node,(edges,sum(edges.values())))\n",
    "    \n",
    "    # Now, let us build the ALLNodesRDD with the above\n",
    "    # It is basically a copy of the function we built to count_nodes\n",
    "    # except we count after the RDD\n",
    "    \n",
    "    ALLNodesRDD = dataRDD.map(lambda x: parse(x)) \\\n",
    "                    .flatMap(emit_node) \\\n",
    "                    .distinct()\\\n",
    "                    .cache()\n",
    "    \n",
    "    N = ALLNodesRDD.count()\n",
    "    initial_score = 1.0/N\n",
    "    \n",
    "    # Initialize the nodes with this value\n",
    "    \n",
    "    RDD_1 = ALLNodesRDD.map(lambda x: (x, initial_score))\n",
    "    \n",
    "    # write your main Spark code here\n",
    "    RDD_2 = dataRDD.map(lambda x: parse(x)) \\\n",
    "                    .flatMap(emit_edges_counts) \n",
    "    \n",
    "    # Join both so that we get combined result\n",
    "    # Format = (node_id , (score, edges))\n",
    "    # This will help us in our next task. We have our initial score set to 1/N\n",
    "    # Initial state does not matter to the final stable distribution state\n",
    "    # Also, by having edges and counts together will be easy for the page rank implementation later.\n",
    "    \n",
    "    graphRDD = RDD_1.leftOuterJoin(RDD_2).cache()\n",
    "    \n",
    "    \n",
    "    ############## (END) YOUR CODE ##############\n",
    "    \n",
    "    return graphRDD"
   ]
  },
  {
   "cell_type": "code",
   "execution_count": 102,
   "metadata": {},
   "outputs": [
    {
     "data": {
      "text/plain": [
       "[('4', 0.09090909090909091),\n",
       " ('1', 0.09090909090909091),\n",
       " ('8', 0.09090909090909091),\n",
       " ('9', 0.09090909090909091),\n",
       " ('10', 0.09090909090909091),\n",
       " ('2', 0.09090909090909091),\n",
       " ('3', 0.09090909090909091),\n",
       " ('5', 0.09090909090909091),\n",
       " ('6', 0.09090909090909091),\n",
       " ('7', 0.09090909090909091),\n",
       " ('11', 0.09090909090909091)]"
      ]
     },
     "execution_count": 102,
     "metadata": {},
     "output_type": "execute_result"
    }
   ],
   "source": [
    "#rdd_test = initGraph(testRDD)\n",
    "#rdd_test.take(11)"
   ]
  },
  {
   "cell_type": "code",
   "execution_count": 46,
   "metadata": {},
   "outputs": [
    {
     "name": "stdout",
     "output_type": "stream",
     "text": [
      "... test graph initialized in 1.0876777172088623 seconds.\n"
     ]
    },
    {
     "data": {
      "text/plain": [
       "[('4', (0.09090909090909091, ({'1': 1, '2': 1}, 2))),\n",
       " ('10', (0.09090909090909091, ({'5': 1}, 1))),\n",
       " ('7', (0.09090909090909091, ({'2': 1, '5': 1}, 2))),\n",
       " ('3', (0.09090909090909091, ({'2': 1}, 1))),\n",
       " ('6', (0.09090909090909091, ({'2': 1, '5': 1}, 2))),\n",
       " ('1', (0.09090909090909091, None)),\n",
       " ('8', (0.09090909090909091, ({'2': 1, '5': 1}, 2))),\n",
       " ('9', (0.09090909090909091, ({'2': 1, '5': 1}, 2))),\n",
       " ('2', (0.09090909090909091, ({'3': 1}, 1))),\n",
       " ('5', (0.09090909090909091, ({'4': 1, '2': 1, '6': 1}, 3))),\n",
       " ('11', (0.09090909090909091, ({'5': 1}, 1)))]"
      ]
     },
     "execution_count": 46,
     "metadata": {},
     "output_type": "execute_result"
    }
   ],
   "source": [
    "# part c - run your Spark job on the test graph (RUN THIS CELL AS IS)\n",
    "start = time.time()\n",
    "testGraph = initGraph(testRDD).collect()\n",
    "print(f'... test graph initialized in {time.time() - start} seconds.')\n",
    "testGraph"
   ]
  },
  {
   "cell_type": "code",
   "execution_count": 61,
   "metadata": {},
   "outputs": [
    {
     "name": "stdout",
     "output_type": "stream",
     "text": [
      "... test2 graph initialized in 3.0561630725860596 seconds.\n"
     ]
    },
    {
     "data": {
      "text/plain": [
       "[('4', (0.09090909090909091, ({'1': 1, '2': 1}, 2))),\n",
       " ('10', (0.09090909090909091, ({'5': 1}, 1))),\n",
       " ('7', (0.09090909090909091, ({'2': 1, '5': 1}, 2))),\n",
       " ('3', (0.09090909090909091, ({'2': 2}, 2))),\n",
       " ('6', (0.09090909090909091, ({'2': 1, '5': 2}, 3))),\n",
       " ('1', (0.09090909090909091, None)),\n",
       " ('8', (0.09090909090909091, ({'2': 1, '5': 1}, 2))),\n",
       " ('9', (0.09090909090909091, ({'2': 1, '5': 1}, 2))),\n",
       " ('2', (0.09090909090909091, ({'3': 1}, 1))),\n",
       " ('5', (0.09090909090909091, ({'4': 3, '2': 1, '6': 1}, 5))),\n",
       " ('11', (0.09090909090909091, ({'5': 2}, 2)))]"
      ]
     },
     "execution_count": 61,
     "metadata": {},
     "output_type": "execute_result"
    }
   ],
   "source": [
    "start = time.time()\n",
    "test2Graph = initGraph(test2RDD).collect()\n",
    "print(f'... test2 graph initialized in {time.time() - start} seconds.')\n",
    "test2Graph"
   ]
  },
  {
   "cell_type": "code",
   "execution_count": 47,
   "metadata": {},
   "outputs": [
    {
     "name": "stdout",
     "output_type": "stream",
     "text": [
      "... full graph initialized in 114.16755771636963 seconds\n"
     ]
    }
   ],
   "source": [
    "# part c - run your code on the main graph (RUN THIS CELL AS IS)\n",
    "start = time.time()\n",
    "wikiGraphRDD = initGraph(wikiRDD)\n",
    "print(f'... full graph initialized in {time.time() - start} seconds')"
   ]
  },
  {
   "cell_type": "code",
   "execution_count": 48,
   "metadata": {},
   "outputs": [
    {
     "name": "stdout",
     "output_type": "stream",
     "text": [
      "Total number of records: 15192277\n",
      "First record: [('6171217', (6.582291778908455e-08, ({'10150625': 1, '1823337': 1, '9577051': 1, '8675164': 1, '8296475': 1, '11328087': 1, '10051254': 3, '8831538': 1, '10160486': 1, '5897726': 1, '11699291': 1, '8970958': 2, '8756303': 1, '10373558': 1, '10104515': 1, '13373648': 2, '13204841': 1, '11149576': 1, '7872847': 1}, 23)))]\n",
      "... initialization continued: 166.1132469177246 seconds\n"
     ]
    }
   ],
   "source": [
    "# part c - confirm record format and count (RUN THIS CELL AS IS)\n",
    "start = time.time()\n",
    "print(f'Total number of records: {wikiGraphRDD.count()}')\n",
    "print(f'First record: {wikiGraphRDD.take(1)}')\n",
    "print(f'... initialization continued: {time.time() - start} seconds')"
   ]
  },
  {
   "cell_type": "markdown",
   "metadata": {},
   "source": [
    "# Question 8 - PageRank part 2 (Iterate until convergence)\n",
    "\n",
    "Finally we're ready to compute the page rank. In this last question you'll write a Spark job that iterates over the initialized graph updating each nodes score until it reaches a convergence threshold. The diagram below gives a visual overview of the process using a 5 node toy graph. Pay particular attention to what happens to the dangling mass at each iteration.\n",
    "\n",
    "<img src='PR-illustrated.png'>\n",
    "\n",
    "\n",
    "\n",
    "__`A Note about Notation:`__ The formula above describes how to compute the updated page rank for a node in the graph. The $P$ on the left hand side of the equation is the new score, and the $P$ on the right hand side of the equation represents the accumulated mass that was re-distributed from all of that node's in-links. Finally, $|G|$ is the number of nodes in the graph (which we've elsewhere refered to as $N$).\n",
    "\n",
    "### Q8 Tasks:\n",
    "* __a) short response:__ In terms of the infinite random walk analogy, interpret the meaning of the first term in the PageRank calculation: $\\alpha * \\frac{1}{|G|}$\n",
    "\n",
    "* __b) short response:__ In the equation for the PageRank calculation above what does $m$ represent and why do we divide it by $|G|$?\n",
    "\n",
    "* __c) short response:__ Keeping track of the total probability mass after each update is a good way to confirm that your algorithm is on track. How much should the total mass be after each iteration?\n",
    "\n",
    "* __d) code:__ Fill in the missing code below to create a Spark job that take the initialized graph as its input then iterates over the graph and for each pass:\n",
    "  * reads in each record and redistributes the node's current score to each of its neighbors\n",
    "  * uses an accumulator to add up the dangling node mass and redistribute it among all the nodes. (_Don't forget to reset this accumulator after each iteration!_)\n",
    "  * uses an accumulator to keep track of the total mass being redistributed.( _This is just for your own check, its not part of the PageRank calculation. Don't forget to reset this accumulator after each iteration._)\n",
    "  * aggregates these partial scores for each node\n",
    "  * applies telportation and damping factors as described in the formula above.\n",
    "  * combine all of the above to compute the PageRank as described by the formula above.\n",
    "  * \n",
    "  \n",
    "   __WARNING:__ Some pages contain multiple hyperlinks to the same destination, please take this into account when redistributing the mass.\n",
    "\n",
    " \n",
    "__`NOTE:`__ Please observe scalability best practices in the design of your code & comment your work clearly. You will be graded on both the clarity and the design."
   ]
  },
  {
   "cell_type": "markdown",
   "metadata": {},
   "source": [
    "### Q8 Student Answers:\n",
    "\n",
    "> __a)__ \n",
    "\n",
    "The first term accounts for the probability $\\alpha$ at which a random walker can teleport to any other page in the webgraph. Given that there is 1/G chance of landing at any page, the total probability of teleporting becomes $\\alpha * \\frac{1}{|G|}$\n",
    "\n",
    "> __b)__ \n",
    "\n",
    "m represents the aggregate dangling node mass(i.e sum of probability mass of all the dangling nodes). This mass is equally distributed to each node in the graph, hence each node gets m/G mass from all the dangling nodes (G = Total number of nodes).\n",
    "\n",
    "> __c)__ Type your answer here! \n",
    "\n",
    "Total probability mass must always sum to 1 at each iteration. A little less than 1 is acceptable considering the floating point approximations."
   ]
  },
  {
   "cell_type": "code",
   "execution_count": 49,
   "metadata": {},
   "outputs": [],
   "source": [
    "# part d - provided FloatAccumulator class (RUN THIS CELL AS IS)\n",
    "\n",
    "from pyspark.accumulators import AccumulatorParam\n",
    "\n",
    "class FloatAccumulatorParam(AccumulatorParam):\n",
    "    \"\"\"\n",
    "    Custom accumulator for use in page rank to keep track of various masses.\n",
    "    \n",
    "    IMPORTANT: accumulators should only be called inside actions to avoid duplication.\n",
    "    We stringly recommend you use the 'foreach' action in your implementation below.\n",
    "    \"\"\"\n",
    "    def zero(self, value):\n",
    "        return value\n",
    "    def addInPlace(self, val1, val2):\n",
    "        return val1 + val2"
   ]
  },
  {
   "cell_type": "code",
   "execution_count": 62,
   "metadata": {},
   "outputs": [],
   "source": [
    "# part d - job to run PageRank (RUN THIS CELL AS IS)\n",
    "def runPageRank(graphInitRDD, alpha = 0.15, maxIter = 10, verbose = True):\n",
    "    \"\"\"\n",
    "    Spark job to implement page rank\n",
    "    Args: \n",
    "        graphInitRDD  - pair RDD of (node_id , (score, edges))\n",
    "        alpha         - (float) teleportation factor\n",
    "        maxIter       - (int) stopping criteria (number of iterations)\n",
    "        verbose       - (bool) option to print logging info after each iteration\n",
    "    Returns:\n",
    "        steadyStateRDD - pair RDD of (node_id, pageRank)\n",
    "    \"\"\"\n",
    "    # teleportation:\n",
    "    a = sc.broadcast(alpha)\n",
    "    \n",
    "    # damping factor:\n",
    "    d = sc.broadcast(1-a.value)\n",
    "    \n",
    "    # initialize accumulators for dangling mass & total mass\n",
    "    mmAccum = sc.accumulator(0.0, FloatAccumulatorParam())\n",
    "    totAccum = sc.accumulator(0.0, FloatAccumulatorParam())\n",
    "    \n",
    "    ############## YOUR CODE HERE ###############\n",
    "\n",
    "    # Here are our rough steps:\n",
    "    # 1) Find the node count from the RDD and broadcast the same\n",
    "    # 2) Filter RDD for dangling nodes, and update the dangling mass. Broadcast the result\n",
    "    # 3) Redistribute the mass to each edge node and yield\n",
    "    # 4) Reduce (Aggregate) the results\n",
    "    # 5) Repeat the steps for max Iterations\n",
    "    \n",
    "    # write your helper functions here, \n",
    "    # please document the purpose of each clearly \n",
    "    # for reference, the master solution has 5 helper functions.\n",
    "\n",
    "    \n",
    "    def ParseInitGraph(line):\n",
    "        \"\"\"\n",
    "        Routine to parse the initial graph and emit node, score, edges separately\n",
    "        This will help in our subsequent processing\n",
    "        We have line in the format (('node', (score, ({'edge': weight, 'edge': weight}, edge_count))))\n",
    "        This function will separate them and return the corresponding values in the format (node,score,dict,edge_count)\n",
    "        \"\"\"\n",
    "        line = ast.literal_eval(line)\n",
    "\n",
    "        \n",
    "        # Initialize edge dictionary to None. This is for dangling node\n",
    "        edgedict = None\n",
    "        edge_count = 0\n",
    "        node, score_edge_and_count = line\n",
    "        score = score_edge_and_count[0]\n",
    "        edges = score_edge_and_count[1]        \n",
    "        if edges != None:\n",
    "            edges = ast.literal_eval(str(edges))\n",
    "            edgedict = edges[0]\n",
    "            edge_count = edges[1]\n",
    "        return (node, score, edgedict, edge_count)\n",
    "\n",
    "    def redistribute_mass(line):\n",
    "        \n",
    "        \"\"\"        \n",
    "        Redistribute the mass to the connected nodes.\n",
    "        We will take the score and divide by the number of neighbbors.\n",
    "        We should also take the link weights into account here.\n",
    "        \"\"\"        \n",
    "        node, score, edgedict, edge_count = line\n",
    "        \n",
    "        if edge_count!=0 :\n",
    "            # This is not a dangling node.\n",
    "            # We will calculate the score and emit per neighbor\n",
    "            \n",
    "            # Let us first emit the source node, with score as 0 (indicating its processed)\n",
    "            # along with edge dictionary and edge count.\n",
    "            yield node, (0, edgedict, edge_count)\n",
    "            \n",
    "            # Now for each adjacency node, we calculate the score\n",
    "            for adjnode in edgedict.keys():\n",
    "                #  Score with weight (edgedict[adjnode]) considered              \n",
    "                adjscore = score * edgedict[adjnode]/(edge_count)\n",
    "                yield adjnode, (adjscore, {}, 0)        \n",
    "        else: \n",
    "            # This is a dangling node. We just need to emit with no score\n",
    "            yield node, (0, {}, 0)       \n",
    "    \n",
    "    def reduce_records(r1, r2):\n",
    "\n",
    "        \"\"\"        \n",
    "        Reducer to aggregate the scores for each node\n",
    "        \"\"\"        \n",
    "        score_1, edgedict_1, edge_count_1 = r1\n",
    "        score_2, edgedict_2, edge_count_2 = r2\n",
    "        \n",
    "        score = score_1 + score_2\n",
    "        \n",
    "        # We have one record that has non-null edgedict\n",
    "        # We need to prefer that record to get dict and count\n",
    "        \n",
    "        if len(edgedict_1) > 0:\n",
    "            edgedict = edgedict_1\n",
    "            edge_count = edge_count_1\n",
    "        else:\n",
    "            edgedict = edgedict_2\n",
    "            edge_count = edge_count_2\n",
    "                \n",
    "        return (score, edgedict, edge_count)\n",
    "       \n",
    " \n",
    "    def isDangling(line):\n",
    "        \"\"\"\n",
    "        Check if the node is a Dangling node or not\n",
    "        \"\"\"\n",
    "        node, score, edgedict, edge_count = line\n",
    "        if edge_count == 0:\n",
    "            return True\n",
    "        else:\n",
    "            return False\n",
    "\n",
    "    def agg_Dangling_mass(line):\n",
    "        \"\"\"\n",
    "        Updates the dangling mass across all dangling nodes.\n",
    "        \"\"\"\n",
    "        node, score, edgedict, edge_count = line\n",
    "        # Note: initial score is 1/N for each dangling node\n",
    "        mmAccum.add(score)\n",
    "        \n",
    "    def update_total_mass(line):\n",
    "        \"\"\"\n",
    "        Updates the total mass from all nodes\n",
    "        \"\"\"\n",
    "        node, score, edgedict, edge_count = line\n",
    "        totAccum.add(score)\n",
    "\n",
    "    def update_pagerank(line):\n",
    "        \"\"\"\n",
    "        Update page rank\n",
    "        \"\"\"\n",
    "        node, rest = line\n",
    "        score, edgedict, edge_count = rest\n",
    "        \n",
    "        # Use the pagerank formula\n",
    "        updated_score = (a.value * 1/float(G.value))  + (d.value * ((M.value/float(G.value)) + score))\n",
    "        \n",
    "        return (node, updated_score, edgedict, edge_count)   \n",
    "    \n",
    "        \n",
    "    # write your main Spark Job here (including the for loop to iterate)\n",
    "    # for reference, the master solution is 21 lines including comments & whitespace\n",
    "    \n",
    "\n",
    "\n",
    "    # Get the total count and broadcast\n",
    "    N = graphInitRDD.count()\n",
    "    G = sc.broadcast(N)\n",
    "    \n",
    "    # InitRDD in the format that we want to process\n",
    "    RDD = graphInitRDD.map(lambda x: ParseInitGraph(str(x))).cache()\n",
    "\n",
    "    for i in range(maxIter):\n",
    "        \n",
    "        #Update dangling mass\n",
    "        mmAccum = sc.accumulator(0.0, FloatAccumulatorParam())\n",
    "        totAccum = sc.accumulator(0.0, FloatAccumulatorParam())\n",
    "        #Apply this to Dangling nodes only.\n",
    "        RDD.filter(isDangling).foreach(agg_Dangling_mass)\n",
    "        \n",
    "        #Broadcast the dangling mass score\n",
    "        M = sc.broadcast(mmAccum.value)\n",
    "\n",
    "        RDD = RDD.flatMap(redistribute_mass)\\\n",
    "                 .reduceByKey(lambda a, b: reduce_records(a, b))\\\n",
    "                 .map(update_pagerank).cache()\n",
    "\n",
    "        if verbose: \n",
    "            RDD.foreach(update_total_mass)\n",
    "            print(\"Iteration: {}, D_Mass: {}, T_Mass: {}\".format(i,mmAccum.value,totAccum.value))        \n",
    "    \n",
    "    steadyStateRDD = RDD.map(lambda x: (x[0], x[1])).cache()  \n",
    "    #return RDD\n",
    "    ############# (END) YOUR CODE ###############\n",
    "    return steadyStateRDD"
   ]
  },
  {
   "cell_type": "code",
   "execution_count": 63,
   "metadata": {},
   "outputs": [
    {
     "name": "stdout",
     "output_type": "stream",
     "text": [
      "Iteration: 0, D_Mass: 0.09090909090909091, T_Mass: 1.0\n",
      "Iteration: 1, D_Mass: 0.059297520661157024, T_Mass: 1.0\n",
      "Iteration: 2, D_Mass: 0.03794640621086902, T_Mass: 0.9999999999999997\n",
      "Iteration: 3, D_Mass: 0.06401906959337932, T_Mass: 0.9999999999999998\n",
      "Iteration: 4, D_Mass: 0.037595964795097685, T_Mass: 0.9999999999999998\n",
      "Iteration: 5, D_Mass: 0.038674936390503456, T_Mass: 0.9999999999999998\n",
      "Iteration: 6, D_Mass: 0.03411772573816476, T_Mass: 0.9999999999999997\n",
      "Iteration: 7, D_Mass: 0.03465268558210355, T_Mass: 0.9999999999999996\n",
      "Iteration: 8, D_Mass: 0.03326414799094906, T_Mass: 0.9999999999999998\n",
      "Iteration: 9, D_Mass: 0.03326870680631062, T_Mass: 0.9999999999999996\n",
      "Iteration: 10, D_Mass: 0.032930101786204716, T_Mass: 0.9999999999999996\n",
      "Iteration: 11, D_Mass: 0.03291944436426479, T_Mass: 0.9999999999999997\n",
      "Iteration: 12, D_Mass: 0.032828289346332, T_Mass: 0.9999999999999997\n",
      "Iteration: 13, D_Mass: 0.03281973841665034, T_Mass: 0.9999999999999996\n",
      "Iteration: 14, D_Mass: 0.03279573415109754, T_Mass: 0.9999999999999997\n",
      "Iteration: 15, D_Mass: 0.032792273760929885, T_Mass: 0.9999999999999998\n",
      "Iteration: 16, D_Mass: 0.0327858041647526, T_Mass: 0.9999999999999996\n",
      "Iteration: 17, D_Mass: 0.032784537202288515, T_Mass: 0.9999999999999997\n",
      "Iteration: 18, D_Mass: 0.03278278329634672, T_Mass: 0.9999999999999996\n",
      "Iteration: 19, D_Mass: 0.03278235780461703, T_Mass: 0.9999999999999996\n",
      "...trained 20 iterations in 13.44264531135559 seconds.\n",
      "Top 20 ranked nodes:\n"
     ]
    },
    {
     "data": {
      "text/plain": [
       "[('2', 0.38031552249156747),\n",
       " ('3', 0.3469932932917438),\n",
       " ('5', 0.08088637369406641),\n",
       " ('4', 0.039087602168414746),\n",
       " ('6', 0.039087602168414746),\n",
       " ('1', 0.032781877034008526),\n",
       " ('10', 0.01616954583035677),\n",
       " ('7', 0.01616954583035677),\n",
       " ('8', 0.01616954583035677),\n",
       " ('9', 0.01616954583035677),\n",
       " ('11', 0.01616954583035677)]"
      ]
     },
     "execution_count": 63,
     "metadata": {},
     "output_type": "execute_result"
    }
   ],
   "source": [
    "# part d - run PageRank on the test graph (RUN THIS CELL AS IS)\n",
    "# NOTE: while developing your code you may want turn on the verbose option\n",
    "nIter = 20\n",
    "testGraphRDD = initGraph(testRDD)\n",
    "start = time.time()\n",
    "test_results = runPageRank(testGraphRDD, alpha = 0.15, maxIter = nIter, verbose = True)\n",
    "print(f'...trained {nIter} iterations in {time.time() - start} seconds.')\n",
    "print(f'Top 20 ranked nodes:')\n",
    "test_results.takeOrdered(20, key=lambda x: - x[1])"
   ]
  },
  {
   "cell_type": "markdown",
   "metadata": {},
   "source": [
    "__`expected results for the test graph:`__\n",
    "```\n",
    "(2, 0.3803155224915675)\n",
    "(3, 0.3469932932917439)\n",
    "(5, 0.08088637369406641)\n",
    "(4, 0.039087602168414746)\n",
    "(6, 0.039087602168414746)\n",
    "(1, 0.032781877034008526)\n",
    "(8, 0.01616954583035677)\n",
    "(10, 0.01616954583035677)\n",
    "(7, 0.01616954583035677)\n",
    "(9, 0.01616954583035677)\n",
    "(11, 0.01616954583035677)\n",
    "```"
   ]
  },
  {
   "cell_type": "code",
   "execution_count": 64,
   "metadata": {},
   "outputs": [
    {
     "name": "stdout",
     "output_type": "stream",
     "text": [
      "Iteration: 0, D_Mass: 0.09090909090909091, T_Mass: 0.9999999999999998\n",
      "Iteration: 1, D_Mass: 0.059297520661157024, T_Mass: 0.9999999999999998\n",
      "Iteration: 2, D_Mass: 0.046703981968444774, T_Mass: 0.9999999999999998\n",
      "Iteration: 3, D_Mass: 0.09925338433167132, T_Mass: 0.9999999999999998\n",
      "Iteration: 4, D_Mass: 0.050342917879662344, T_Mass: 0.9999999999999999\n",
      "Iteration: 5, D_Mass: 0.05145916544900261, T_Mass: 0.9999999999999998\n",
      "Iteration: 6, D_Mass: 0.04500922379221685, T_Mass: 0.9999999999999996\n",
      "Iteration: 7, D_Mass: 0.04715082459390296, T_Mass: 0.9999999999999997\n",
      "Iteration: 8, D_Mass: 0.04374695430399097, T_Mass: 0.9999999999999996\n",
      "Iteration: 9, D_Mass: 0.04376323453143378, T_Mass: 0.9999999999999998\n",
      "Iteration: 10, D_Mass: 0.04298252973766269, T_Mass: 0.9999999999999998\n",
      "Iteration: 11, D_Mass: 0.04301289483938668, T_Mass: 0.9999999999999997\n",
      "Iteration: 12, D_Mass: 0.04272340069209819, T_Mass: 0.9999999999999996\n",
      "Iteration: 13, D_Mass: 0.04269860289957524, T_Mass: 0.9999999999999998\n",
      "Iteration: 14, D_Mass: 0.04261573341659148, T_Mass: 0.9999999999999996\n",
      "Iteration: 15, D_Mass: 0.04260513806736247, T_Mass: 0.9999999999999997\n",
      "Iteration: 16, D_Mass: 0.042577127384672134, T_Mass: 0.9999999999999996\n",
      "Iteration: 17, D_Mass: 0.04257143065691667, T_Mass: 0.9999999999999997\n",
      "Iteration: 18, D_Mass: 0.042562620053722085, T_Mass: 0.9999999999999994\n",
      "Iteration: 19, D_Mass: 0.04256034774246815, T_Mass: 0.9999999999999996\n",
      "...trained 20 iterations in 12.303722858428955 seconds.\n",
      "Top 20 ranked nodes:\n"
     ]
    },
    {
     "data": {
      "text/plain": [
       "[('2', 0.3620640495978871),\n",
       " ('3', 0.333992700474142),\n",
       " ('5', 0.08506399429624556),\n",
       " ('4', 0.06030963508473455),\n",
       " ('1', 0.04255740809817991),\n",
       " ('6', 0.03138662354831139),\n",
       " ('10', 0.01692511778009981),\n",
       " ('7', 0.01692511778009981),\n",
       " ('8', 0.01692511778009981),\n",
       " ('9', 0.01692511778009981),\n",
       " ('11', 0.01692511778009981)]"
      ]
     },
     "execution_count": 64,
     "metadata": {},
     "output_type": "execute_result"
    }
   ],
   "source": [
    "# part d - run PageRank on the test2 graph (RUN THIS CELL AS IS)\n",
    "# NOTE: while developing your code you may want turn on the verbose option\n",
    "nIter = 20\n",
    "test2GraphRDD = initGraph(test2RDD)\n",
    "start = time.time()\n",
    "test2_results = runPageRank(test2GraphRDD, alpha = 0.15, maxIter = nIter, verbose = True)\n",
    "print(f'...trained {nIter} iterations in {time.time() - start} seconds.')\n",
    "print(f'Top 20 ranked nodes:')\n",
    "test2_results.takeOrdered(20, key=lambda x: - x[1])"
   ]
  },
  {
   "cell_type": "code",
   "execution_count": 65,
   "metadata": {},
   "outputs": [
    {
     "name": "stdout",
     "output_type": "stream",
     "text": [
      "Iteration: 0, D_Mass: 0.6194586236199783, T_Mass: 1.0000000000038185\n",
      "Iteration: 1, D_Mass: 0.49623665522464117, T_Mass: 1.0000000000031979\n",
      "Iteration: 2, D_Mass: 0.45845896640091266, T_Mass: 1.0000000000027662\n",
      "Iteration: 3, D_Mass: 0.44518624579783966, T_Mass: 1.0000000000027123\n",
      "Iteration: 4, D_Mass: 0.44020147818723804, T_Mass: 1.0000000000019298\n",
      "Iteration: 5, D_Mass: 0.43818412109703164, T_Mass: 1.0000000000014084\n",
      "Iteration: 6, D_Mass: 0.4373267618639368, T_Mass: 1.0000000000013456\n",
      "Iteration: 7, D_Mass: 0.43694515814505175, T_Mass: 1.0000000000016598\n",
      "Iteration: 8, D_Mass: 0.43676848972075516, T_Mass: 1.000000000001332\n",
      "Iteration: 9, D_Mass: 0.43668343042804153, T_Mass: 1.0000000000014009\n",
      "...trained 10 iterations in 2016.4881465435028 seconds.\n",
      "Top 20 ranked nodes:\n"
     ]
    },
    {
     "data": {
      "text/plain": [
       "[('13455888', 0.0015447247129827058),\n",
       " ('4695850', 0.0006710240718904011),\n",
       " ('5051368', 0.0005983856809745467),\n",
       " ('1184351', 0.0005982073536465467),\n",
       " ('2437837', 0.0004624928928938975),\n",
       " ('6076759', 0.00045509400641431566),\n",
       " ('4196067', 0.00044237788883707933),\n",
       " ('13425865', 0.0004415535171433002),\n",
       " ('6172466', 0.0004224002001843472),\n",
       " ('1384888', 0.0004012895604072398),\n",
       " ('6113490', 0.0003957892477179322),\n",
       " ('14112583', 0.0003943847283753156),\n",
       " ('7902219', 0.00037009878473555287),\n",
       " ('10390714', 0.0003650264964326863),\n",
       " ('12836211', 0.0003619948863113367),\n",
       " ('6237129', 0.00035195558476239393),\n",
       " ('6416278', 0.0003486623564525345),\n",
       " ('13432150', 0.00033936510637404624),\n",
       " ('1516699', 0.0003329750028623157),\n",
       " ('7990491', 0.0003076090626585675)]"
      ]
     },
     "execution_count": 65,
     "metadata": {},
     "output_type": "execute_result"
    }
   ],
   "source": [
    "# part d - run PageRank on the full graph (RUN THIS CELL AS IS)\n",
    "# NOTE: wikiGraphRDD should have been computed & cached above!\n",
    "nIter = 10\n",
    "start = time.time()\n",
    "full_results = runPageRank(wikiGraphRDD, alpha = 0.15, maxIter = nIter, verbose = True)\n",
    "print(f'...trained {nIter} iterations in {time.time() - start} seconds.')\n",
    "print(f'Top 20 ranked nodes:')\n",
    "full_results.takeOrdered(20, key=lambda x: - x[1])"
   ]
  },
  {
   "cell_type": "code",
   "execution_count": null,
   "metadata": {},
   "outputs": [],
   "source": []
  }
 ],
 "metadata": {
  "kernelspec": {
   "display_name": "Python 3",
   "language": "python",
   "name": "python3"
  },
  "language_info": {
   "codemirror_mode": {
    "name": "ipython",
    "version": 3
   },
   "file_extension": ".py",
   "mimetype": "text/x-python",
   "name": "python",
   "nbconvert_exporter": "python",
   "pygments_lexer": "ipython3",
   "version": "3.6.6"
  },
  "toc": {
   "colors": {
    "hover_highlight": "#DAA520",
    "running_highlight": "#FF0000",
    "selected_highlight": "#FFD700"
   },
   "moveMenuLeft": true,
   "nav_menu": {
    "height": "441px",
    "width": "252px"
   },
   "navigate_menu": true,
   "number_sections": true,
   "sideBar": true,
   "threshold": 4,
   "toc_cell": true,
   "toc_position": {
    "height": "827px",
    "left": "0px",
    "right": "1125px",
    "top": "107px",
    "width": "428px"
   },
   "toc_section_display": "block",
   "toc_window_display": true
  }
 },
 "nbformat": 4,
 "nbformat_minor": 2
}
